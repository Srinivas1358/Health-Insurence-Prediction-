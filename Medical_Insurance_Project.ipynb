{
  "nbformat": 4,
  "nbformat_minor": 0,
  "metadata": {
    "colab": {
      "provenance": []
    },
    "kernelspec": {
      "name": "python3",
      "display_name": "Python 3"
    },
    "language_info": {
      "name": "python"
    }
  },
  "cells": [
    {
      "cell_type": "code",
      "execution_count": 1,
      "metadata": {
        "id": "BGbM2HOcoet2"
      },
      "outputs": [],
      "source": [
        "import numpy as np\n",
        "import pandas as pd\n",
        "from sklearn.model_selection import train_test_split\n",
        "from xgboost import XGBRegressor\n",
        "from catboost import CatBoostRegressor\n",
        "from lightgbm import LGBMRegressor\n",
        "from sklearn.metrics import r2_score, mean_squared_error"
      ]
    },
    {
      "cell_type": "code",
      "source": [
        "# Load dataset\n",
        "data = pd.read_csv('/content/Medical_insurance.csv')\n"
      ],
      "metadata": {
        "id": "qQkM_k3MMhh1"
      },
      "execution_count": 2,
      "outputs": []
    },
    {
      "cell_type": "code",
      "source": [
        "# Load dataset\n",
        "data = pd.read_csv('/content/Medical_insurance.csv')\n",
        "\n"
      ],
      "metadata": {
        "id": "oggGluvwwRi3"
      },
      "execution_count": null,
      "outputs": []
    },
    {
      "cell_type": "code",
      "source": [
        "# Preprocessing\n",
        "data = pd.get_dummies(data, drop_first=True)\n",
        "X = data.drop('charges', axis=1)\n",
        "y = data['charges']\n",
        "X_train, X_test, y_train, y_test = train_test_split(X, y, test_size=0.2, random_state=42)\n"
      ],
      "metadata": {
        "id": "N6xpGf3RncTK"
      },
      "execution_count": 3,
      "outputs": []
    },
    {
      "cell_type": "code",
      "source": [
        "\n",
        "# Initialize models\n",
        "xgb_model = XGBRegressor(n_estimators=100, learning_rate=0.1)\n",
        "cat_model = CatBoostRegressor(iterations=100, learning_rate=0.1, verbose=0)  # Set verbose=0 to suppress output\n",
        "lgbm_model = LGBMRegressor(n_estimators=100, learning_rate=0.1)\n",
        "\n"
      ],
      "metadata": {
        "id": "IREYMLIjngVy"
      },
      "execution_count": 4,
      "outputs": []
    },
    {
      "cell_type": "code",
      "source": [
        "# Fit models\n",
        "xgb_model.fit(X_train, y_train)\n",
        "cat_model.fit(X_train, y_train)\n",
        "lgbm_model.fit(X_train, y_train)\n",
        "\n",
        "# Predictions\n",
        "xgb_pred = xgb_model.predict(X_test)\n",
        "cat_pred = cat_model.predict(X_test)\n",
        "lgbm_pred = lgbm_model.predict(X_test)\n",
        "\n"
      ],
      "metadata": {
        "colab": {
          "base_uri": "https://localhost:8080/"
        },
        "id": "hPc3yTuAnkOl",
        "outputId": "2339205a-2b9d-45df-aec1-8cc7888c9399"
      },
      "execution_count": 5,
      "outputs": [
        {
          "output_type": "stream",
          "name": "stdout",
          "text": [
            "[LightGBM] [Info] Auto-choosing col-wise multi-threading, the overhead of testing was 0.000417 seconds.\n",
            "You can set `force_col_wise=true` to remove the overhead.\n",
            "[LightGBM] [Info] Total Bins 318\n",
            "[LightGBM] [Info] Number of data points in the train set: 2217, number of used features: 8\n",
            "[LightGBM] [Info] Start training from score 13371.074037\n"
          ]
        }
      ]
    },
    {
      "cell_type": "code",
      "source": [
        "# Hybrid Model\n",
        "final_pred = (xgb_pred + cat_pred + lgbm_pred) / 3\n",
        "\n",
        "# Evaluation\n",
        "print('Hybrid Model R2:', r2_score(y_test, final_pred))\n",
        "print('Hybrid Model RMSE:', np.sqrt(mean_squared_error(y_test, final_pred)))"
      ],
      "metadata": {
        "colab": {
          "base_uri": "https://localhost:8080/"
        },
        "id": "IWmWNolfnnni",
        "outputId": "bf7222b6-70dc-4592-9916-4ca8ac4317c1"
      },
      "execution_count": 6,
      "outputs": [
        {
          "output_type": "stream",
          "name": "stdout",
          "text": [
            "Hybrid Model R2: 0.9031684998756597\n",
            "Hybrid Model RMSE: 3855.0993922179086\n"
          ]
        }
      ]
    }
  ]
}